{
 "cells": [
  {
   "cell_type": "code",
   "execution_count": 2,
   "metadata": {},
   "outputs": [
    {
     "name": "stderr",
     "output_type": "stream",
     "text": [
      "/Users/beichen/anaconda3/envs/pytorch/lib/python3.7/site-packages/tqdm/auto.py:22: TqdmWarning: IProgress not found. Please update jupyter and ipywidgets. See https://ipywidgets.readthedocs.io/en/stable/user_install.html\n",
      "  from .autonotebook import tqdm as notebook_tqdm\n"
     ]
    }
   ],
   "source": [
    "import shap\n",
    "import pandas as pd\n",
    "import numpy as np\n",
    "import joblib"
   ]
  },
  {
   "cell_type": "code",
   "execution_count": null,
   "metadata": {},
   "outputs": [],
   "source": [
    "# load the model\n",
    "xgb_clf = joblib.load(\"/path/to/your/saved/model\")\n",
    "\n",
    "# load the dataset\n",
    "# processing the data to get features and impacts\n",
    "X_test = pd.read_csv(\"/path/to/your/saved/test/features\")\n",
    "y_test = pd.read_csv(\"/path/to/your/saved/test/impacts\")"
   ]
  },
  {
   "cell_type": "code",
   "execution_count": null,
   "metadata": {},
   "outputs": [],
   "source": [
    "# build the tree explainer\n",
    "explainer = shap.TreeExplainer(xgb_clf)\n",
    "# calculate shap values\n",
    "shap_val = explainer.shap_values(X_test)\n",
    "# plot shap summary plot\n",
    "shap.summary_plot(shap_val, X_test)"
   ]
  },
  {
   "cell_type": "code",
   "execution_count": null,
   "metadata": {},
   "outputs": [],
   "source": []
  }
 ],
 "metadata": {
  "kernelspec": {
   "display_name": "pytorch",
   "language": "python",
   "name": "python3"
  },
  "language_info": {
   "codemirror_mode": {
    "name": "ipython",
    "version": 3
   },
   "file_extension": ".py",
   "mimetype": "text/x-python",
   "name": "python",
   "nbconvert_exporter": "python",
   "pygments_lexer": "ipython3",
   "version": "3.7.12"
  },
  "orig_nbformat": 4,
  "vscode": {
   "interpreter": {
    "hash": "a808e065d1d6c4bcf504efede75a993866691f3951842a86d2f579abe56e05b0"
   }
  }
 },
 "nbformat": 4,
 "nbformat_minor": 2
}
