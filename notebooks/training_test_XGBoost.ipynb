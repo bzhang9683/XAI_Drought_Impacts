{
 "cells": [
  {
   "cell_type": "code",
   "execution_count": null,
   "metadata": {},
   "outputs": [],
   "source": [
    "import sys\n",
    "sys.path.insert(1, '/your_directory_saved_the_fold/XAI_Drought_Impacts/scripts/')\n",
    "from processing_data import processing_data\n",
    "from XGBoost_Modeling import define_hyperparameters\n",
    "from XGBoost_Modeling import model_training\n",
    "from XGBoost_Modeling import model_testing\n",
    "from sklearn.model_selection import train_test_split\n",
    "import pandas as pd"
   ]
  },
  {
   "cell_type": "code",
   "execution_count": null,
   "metadata": {},
   "outputs": [],
   "source": [
    "# processing the data to get features and impacts\n",
    "df_X, df_y = processing_data(wdir = \"/change/to/your/data/directory\",\n",
    "                impacts = \"type_of_drought_impact\",\n",
    "                location = \"State or Climate Region or National\")"
   ]
  },
  {
   "cell_type": "code",
   "execution_count": null,
   "metadata": {},
   "outputs": [],
   "source": [
    "# split the training and test datasets\n",
    "X_train, X_test, y_train, y_test = train_test_split(df_X, df_y, random_state=42, test_size=0.3, stratify=df_y)"
   ]
  },
  {
   "cell_type": "code",
   "execution_count": null,
   "metadata": {},
   "outputs": [],
   "source": [
    "# save test datasets for the interpretation\n",
    "X_test.to_csv(\"/your/output/directory/X_test.csv\")\n",
    "y_test.to_csv(\"/your/output/directory/y_test.csv\")"
   ]
  },
  {
   "cell_type": "code",
   "execution_count": null,
   "metadata": {},
   "outputs": [],
   "source": [
    "# Training a XGBoost model using the provided functions\n",
    "tuning_dict = define_hyperparameters()\n",
    "best_model = model_training(X_train,y_train,tuning_dict)"
   ]
  },
  {
   "cell_type": "code",
   "execution_count": null,
   "metadata": {},
   "outputs": [],
   "source": [
    "# test the fine-tuned model on the test dataset\n",
    "cm, f2_score, recall, precision = model_testing(best_model,X_test, y_test)"
   ]
  }
 ],
 "metadata": {
  "kernelspec": {
   "display_name": "pytorch",
   "language": "python",
   "name": "python3"
  },
  "language_info": {
   "codemirror_mode": {
    "name": "ipython",
    "version": 3
   },
   "file_extension": ".py",
   "mimetype": "text/x-python",
   "name": "python",
   "nbconvert_exporter": "python",
   "pygments_lexer": "ipython3",
   "version": "3.7.12 | packaged by conda-forge | (default, Oct 26 2021, 05:59:23) \n[Clang 11.1.0 ]"
  },
  "orig_nbformat": 4,
  "vscode": {
   "interpreter": {
    "hash": "a808e065d1d6c4bcf504efede75a993866691f3951842a86d2f579abe56e05b0"
   }
  }
 },
 "nbformat": 4,
 "nbformat_minor": 2
}
